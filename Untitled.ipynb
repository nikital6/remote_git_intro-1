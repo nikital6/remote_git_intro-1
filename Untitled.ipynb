{
 "cells": [
  {
   "cell_type": "code",
   "execution_count": 8,
   "metadata": {},
   "outputs": [
    {
     "name": "stderr",
     "output_type": "stream",
     "text": [
      "'pwd' is not recognized as an internal or external command,\n",
      "operable program or batch file.\n"
     ]
    }
   ],
   "source": [
    "!pwd"
   ]
  },
  {
   "cell_type": "code",
   "execution_count": 9,
   "metadata": {},
   "outputs": [
    {
     "name": "stderr",
     "output_type": "stream",
     "text": [
      "'ls' is not recognized as an internal or external command,\n",
      "operable program or batch file.\n"
     ]
    }
   ],
   "source": [
    "!ls"
   ]
  },
  {
   "cell_type": "code",
   "execution_count": 10,
   "metadata": {},
   "outputs": [],
   "source": [
    "import os"
   ]
  },
  {
   "cell_type": "code",
   "execution_count": 11,
   "metadata": {},
   "outputs": [
    {
     "data": {
      "text/plain": [
       "['.git', '.ipynb_checkpoints', 'Untitled.ipynb']"
      ]
     },
     "execution_count": 11,
     "metadata": {},
     "output_type": "execute_result"
    }
   ],
   "source": [
    "os.listdir()"
   ]
  },
  {
   "cell_type": "code",
   "execution_count": 5,
   "metadata": {},
   "outputs": [
    {
     "name": "stdout",
     "output_type": "stream",
     "text": [
      " Volume in drive C has no label.\n",
      "  Volume Serial Number is 601A-37F8\n",
      " \n",
      "  Directory of C:\\Users\\Sanchit Jain\\Desktop\\git_intro\n",
      " \n",
      " 06/25/2020  12:12 AM    <DIR>          .\n",
      " 06/25/2020  12:12 AM    <DIR>          ..\n",
      " 06/25/2020  12:04 AM    <DIR>          .ipynb_checkpoints\n",
      " 06/25/2020  12:12 AM             1,723 Untitled.ipynb\n",
      "                1 File(s)          1,723 bytes\n",
      "                3 Dir(s)  16,189,255,680 bytes free\n",
      "\n"
     ]
    }
   ],
   "source": [
    "print(*os.popen('dir'))"
   ]
  },
  {
   "cell_type": "code",
   "execution_count": 7,
   "metadata": {},
   "outputs": [
    {
     "name": "stdout",
     "output_type": "stream",
     "text": [
      " Volume in drive C has no label.\n",
      " Volume Serial Number is 601A-37F8\n",
      "\n",
      " Directory of C:\\Users\\Sanchit Jain\\Desktop\\git_intro\n",
      "\n",
      "06/25/2020  12:12 AM    <DIR>          .\n",
      "06/25/2020  12:12 AM    <DIR>          ..\n",
      "06/25/2020  12:09 AM    <DIR>          .git\n",
      "06/25/2020  12:04 AM    <DIR>          .ipynb_checkpoints\n",
      "06/25/2020  12:12 AM             1,723 Untitled.ipynb\n",
      "               1 File(s)          1,723 bytes\n",
      "               4 Dir(s)  16,188,649,472 bytes free\n"
     ]
    }
   ],
   "source": [
    "!dir /a"
   ]
  },
  {
   "cell_type": "code",
   "execution_count": 13,
   "metadata": {},
   "outputs": [
    {
     "name": "stderr",
     "output_type": "stream",
     "text": [
      "'cat' is not recognized as an internal or external command,\n",
      "operable program or batch file.\n"
     ]
    }
   ],
   "source": [
    "!cat .git/config"
   ]
  },
  {
   "cell_type": "code",
   "execution_count": 14,
   "metadata": {},
   "outputs": [
    {
     "name": "stderr",
     "output_type": "stream",
     "text": [
      "UsageError: %%writefile is a cell magic, but the cell body is empty.\n"
     ]
    }
   ],
   "source": [
    "%%writefile readme.md\n"
   ]
  },
  {
   "cell_type": "code",
   "execution_count": null,
   "metadata": {},
   "outputs": [],
   "source": []
  }
 ],
 "metadata": {
  "kernelspec": {
   "display_name": "Python 3",
   "language": "python",
   "name": "python3"
  },
  "language_info": {
   "codemirror_mode": {
    "name": "ipython",
    "version": 3
   },
   "file_extension": ".py",
   "mimetype": "text/x-python",
   "name": "python",
   "nbconvert_exporter": "python",
   "pygments_lexer": "ipython3",
   "version": "3.7.4"
  }
 },
 "nbformat": 4,
 "nbformat_minor": 4
}
